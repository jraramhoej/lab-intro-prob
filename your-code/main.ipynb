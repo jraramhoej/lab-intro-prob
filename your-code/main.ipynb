{
 "cells": [
  {
   "cell_type": "markdown",
   "metadata": {},
   "source": [
    "# Introduction To Probability\n",
    "## Challenge 1\n",
    "\n",
    "A and B are events of a probability space with $(\\omega, \\sigma, P)$ such that $P(A) = 0.3$, $P(B) = 0.6$ and $P(A \\cap B) = 0.1$\n",
    "\n",
    "Which of the following statements are false?\n",
    "* $P(A \\cup B) = 0.6$\n",
    "* $P(A \\cap B^{C}) = 0.2$\n",
    "* $P(A \\cap (B \\cup B^{C})) = 0.4$\n",
    "* $P(A^{C} \\cap B^{C}) = 0.3$\n",
    "* $P((A \\cap B)^{C}) = 0.9$"
   ]
  },
  {
   "cell_type": "code",
   "execution_count": null,
   "metadata": {},
   "outputs": [],
   "source": [
    "\"\"\"\n",
    "your solution here\n",
    "\n",
    "- 𝑃(𝐴∪𝐵)=0.6 is false. It should be 0.8 (0.3 + 0.6 - 0.1)\n",
    "- 𝑃(𝐴∩𝐵𝐶)=0.2 is false. It should be 0.12 (0.3 * 0.4) \n",
    "- 𝑃(𝐴∩(𝐵∪𝐵𝐶))=0.4 is false. It should be 0.3 (0.3 * (0.6 + 0.4))\n",
    "\n",
    "\"\"\""
   ]
  },
  {
   "cell_type": "markdown",
   "metadata": {},
   "source": [
    "## Challenge 2\n",
    "There is a box with 10 white balls, 12 red balls and 8 black balls. Calculate the probability of:\n",
    "* Taking a white ball out.\n",
    "* Taking a white ball out after taking a black ball out.\n",
    "* Taking a red ball out after taking a black and a red ball out.\n",
    "* Taking a red ball out after taking a black and a red ball out with reposition.\n",
    "\n",
    "**Hint**: Reposition means putting back the ball into the box after taking it out."
   ]
  },
  {
   "cell_type": "code",
   "execution_count": null,
   "metadata": {},
   "outputs": [],
   "source": [
    "\"\"\"\n",
    "your solution here\n",
    "\n",
    "initial total = 10 + 12 + 8 = 30\n",
    "\n",
    "1. Taking a white ball out: 10/30 = 1/3 = 0.33\n",
    "2. Taking a white ball out after taking a black ball out: (8/30) * (10/29) = 0.09\n",
    "3. Taking a red ball out after taking a black and a red ball out: (8/30) * (12/29) * (11/28) = 0.04\n",
    "4. Taking a red ball out after taking a black and a red ball out with reposition: (8/30) * (12/30) * (12/30) = 0.04\n",
    "\n",
    "\n",
    "\"\"\""
   ]
  },
  {
   "cell_type": "markdown",
   "metadata": {},
   "source": [
    "## Challenge 3\n",
    "\n",
    "You are planning to go on a picnic today but the morning is cloudy. You hate rain so you don't know whether to go out or stay home! To help you make a decision, you gather the following data about rainy days:\n",
    "\n",
    "* Knowing that it is a rainy day, the probability of cloudy is 50%!\n",
    "* The probability of any day (rainy or not) starting off cloudy is 40%. \n",
    "* This month is usually dry so only 3 of 30 days (10%) tend to be rainy. \n",
    "\n",
    "What is the probability of rain, given the day started cloudy?"
   ]
  },
  {
   "cell_type": "code",
   "execution_count": null,
   "metadata": {},
   "outputs": [],
   "source": [
    "\"\"\"\n",
    "your solution here\n",
    "\n",
    "A: It is cloudy \n",
    "B: It rains\n",
    "\n",
    "P(A) = 0.4\n",
    "P(B) = 0.1\n",
    "P(A|B) = 0.5\n",
    "\n",
    "Apply formula: 𝑃(𝐵|𝐴)=𝑃(𝐴|𝐵)𝑃(𝐵)/𝑃(𝐴) = (0.5 * 0.1) / 0.4 = 0.125\n",
    "\n",
    "The probability is 0.125\n",
    "\"\"\""
   ]
  },
  {
   "cell_type": "markdown",
   "metadata": {},
   "source": [
    "## Challenge 4\n",
    "\n",
    "One thousand people were asked through a telephone survey whether they thought more street lighting is needed at night or not.\n",
    "\n",
    "Out of the 480 men that answered the survey, 324 said yes and 156 said no. On the other hand, out of the 520 women that answered, 351 said yes and 169 said no. \n",
    "\n",
    "We wonder if men and women have a different opinions about the street lighting matter. Is gender relevant or irrelevant to the question?\n",
    "\n",
    "Consider the following events:\n",
    "- The answer is yes, so the person that answered thinks that more street lighting is needed.\n",
    "- The person who answered is a man.\n",
    "\n",
    "We want to know if these events are independent, that is, if the fact of wanting more light depends on whether one is male or female. Are these events independent or not?\n",
    "\n",
    "**Hint**: To clearly compare the answers by gender, it is best to place the data in a table."
   ]
  },
  {
   "cell_type": "code",
   "execution_count": 8,
   "metadata": {},
   "outputs": [
    {
     "name": "stdout",
     "output_type": "stream",
     "text": [
      "   Gender  Yes   No\n",
      "0    Male  324  156\n",
      "1  Female  351  169\n"
     ]
    }
   ],
   "source": [
    "# your code here\n",
    "\n",
    "import pandas as pd\n",
    "\n",
    "data = {'Gender': [\"Male\", \"Female\"],\n",
    "        'Yes': [324, 351],\n",
    "        'No': [156, 169],\n",
    "       }\n",
    "\n",
    "df = pd.DataFrame(data, columns = ['Gender', 'Yes','No'])\n",
    "\n",
    "print(df)"
   ]
  },
  {
   "cell_type": "code",
   "execution_count": 11,
   "metadata": {},
   "outputs": [
    {
     "name": "stdout",
     "output_type": "stream",
     "text": [
      "False\n",
      "False\n",
      "False\n"
     ]
    }
   ],
   "source": [
    "\"\"\"\n",
    "your solution here\n",
    "\n",
    "\"\"\"\n",
    "\n",
    "\"\"\"\n",
    "In order for 2 events A and B to be independent, at least one of the following statements must be true:\n",
    "\n",
    "P(A)*P(B) = P(A ∩ B)\n",
    "\n",
    "P(A|B) = P(A)\n",
    "\n",
    "P(B|A) = P(B) \n",
    "\n",
    "\"\"\"\n",
    "\n",
    "# A = choosing Yes\n",
    "# B = individual is Male\n",
    "\n",
    "# P(A) = (324 + 251) / 1000 = 0.575\n",
    "\n",
    "# P(B) = 480 / 1000 = 0.48\n",
    "\n",
    "# P(A|B) = 324/480 = 0.675\n",
    "\n",
    "# P(A ∩ B) = \n",
    "\n",
    "# 𝑃(𝐵|𝐴) = 𝑃(𝐴|𝐵)𝑃(𝐵)/𝑃(𝐴) = (0.675 * 0.48) / 0.575 = 0.5634782608695653\n",
    "\n",
    "# test P(A)*P(B) = P(A ∩ B)\n",
    "print((0.575*0.48) == (324/100))\n",
    "\n",
    "# test P(A|B) = P(A)\n",
    "print(0.675 == 0.575)\n",
    "\n",
    "# test P(B|A) = P(B) \n",
    "print(0.5634782608695653 == 0.48)\n",
    "\n",
    "\n",
    "# Conclusion: They are not independent\n"
   ]
  }
 ],
 "metadata": {
  "kernelspec": {
   "display_name": "Python 3",
   "language": "python",
   "name": "python3"
  },
  "language_info": {
   "codemirror_mode": {
    "name": "ipython",
    "version": 3
   },
   "file_extension": ".py",
   "mimetype": "text/x-python",
   "name": "python",
   "nbconvert_exporter": "python",
   "pygments_lexer": "ipython3",
   "version": "3.7.10"
  }
 },
 "nbformat": 4,
 "nbformat_minor": 2
}
